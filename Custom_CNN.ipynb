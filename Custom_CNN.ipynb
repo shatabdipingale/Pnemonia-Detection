{
  "cells": [
    {
      "cell_type": "code",
      "execution_count": null,
      "metadata": {
        "id": "iXg2XDDR_cdD"
      },
      "outputs": [],
      "source": [
        "import tensorflow as tf\n",
        "import keras\n",
        "from tensorflow.keras.preprocessing.image import ImageDataGenerator\n",
        "import numpy as np\n",
        "import cv2,os\n",
        "from sklearn.metrics import classification_report\n",
        "import numpy\n",
        "import matplotlib.pyplot as plt\n",
        "import seaborn as sns"
      ]
    },
    {
      "cell_type": "code",
      "execution_count": null,
      "metadata": {
        "id": "Blo7pFKakZsz"
      },
      "outputs": [],
      "source": [
        "\n",
        "import glob\n",
        "import tensorflow\n",
        "from tensorflow.keras.preprocessing.image import array_to_img, img_to_array, load_img\n",
        "from tensorflow.keras.layers import Conv2D, Flatten, MaxPooling2D, Dense, Dropout, BatchNormalization\n",
        "from tensorflow.keras.models import Sequential\n",
        "from mlxtend.plotting import plot_confusion_matrix\n",
        "from tensorflow.keras.preprocessing import image\n",
        "from tensorflow.keras.preprocessing.image import ImageDataGenerator\n",
        "from sklearn.metrics import classification_report, confusion_matrix, accuracy_score\n",
        "from tensorflow.keras.callbacks import ReduceLROnPlateau\n",
        "from tensorflow.keras.applications.vgg16 import VGG16\n",
        "from sklearn.model_selection import train_test_split"
      ]
    },
    {
      "cell_type": "code",
      "execution_count": null,
      "metadata": {
        "colab": {
          "base_uri": "https://localhost:8080/"
        },
        "id": "DxRrcx1l_pLX",
        "outputId": "6eae4729-0974-4a24-fc45-c234c854cdc6"
      },
      "outputs": [
        {
          "output_type": "stream",
          "name": "stdout",
          "text": [
            "Found 5216 images belonging to 2 classes.\n"
          ]
        }
      ],
      "source": [
        "# rescale (normalize) the images and generate a set of new images with differnet rotations and zoom levels (augmentatoin) to prevent overfitting\n",
        "# it can also help to balance the imbalanced data\n",
        "# by default keras automatically converts all images to RGB mode, so no need to convert images, if they are differnet.\n",
        "train_datagen = ImageDataGenerator(rescale = 1./255,\n",
        "                                   shear_range = 0.2,\n",
        "                                   zoom_range = 0.2,\n",
        "                                   horizontal_flip = True)\n",
        "# apply the data augmentatoin on the dataset and reduce their size for faster (but of course less accurate) learning\n",
        "img_width, img_height = 64, 64\n",
        "training_set = train_datagen.flow_from_directory('/content/drive/MyDrive/Colab Notebooks/Pneumonia_Detection/chest_xray/chest_xray/train',\n",
        "                                                 target_size = (img_width, img_height),\n",
        "                                                 batch_size = 32,\n",
        "                                                 class_mode = 'binary')"
      ]
    },
    {
      "cell_type": "code",
      "execution_count": null,
      "metadata": {
        "colab": {
          "base_uri": "https://localhost:8080/"
        },
        "id": "6tN1ob_v2ARR",
        "outputId": "cebdefe1-1225-4fbe-d160-5a8faafcec3d"
      },
      "outputs": [
        {
          "output_type": "stream",
          "name": "stdout",
          "text": [
            "Mounted at /content/drive\n"
          ]
        }
      ],
      "source": [
        "from google.colab import drive\n",
        "drive.mount('/content/drive')"
      ]
    },
    {
      "cell_type": "code",
      "execution_count": null,
      "metadata": {
        "colab": {
          "base_uri": "https://localhost:8080/"
        },
        "id": "MLx0w25IBQJ2",
        "outputId": "609a0f85-2831-4d75-c11b-48c09e2eb641"
      },
      "outputs": [
        {
          "output_type": "stream",
          "name": "stdout",
          "text": [
            "dict_items([(0, 1341), (1, 3875)])\n"
          ]
        }
      ],
      "source": [
        "from collections import Counter\n",
        "cases_count = Counter(training_set.classes)\n",
        "print(cases_count.items())"
      ]
    },
    {
      "cell_type": "code",
      "execution_count": null,
      "metadata": {
        "colab": {
          "base_uri": "https://localhost:8080/"
        },
        "id": "s-9jVvJzBWkT",
        "outputId": "418b0de4-508d-4203-f99e-a5016e984d56"
      },
      "outputs": [
        {
          "output_type": "stream",
          "name": "stdout",
          "text": [
            "{0: 1.9448173005219984, 1: 0.6730322580645162}\n"
          ]
        }
      ],
      "source": [
        "total = cases_count[0] + cases_count[1]\n",
        "weight_for_0 = (1 / cases_count[0]) * (total / 2.0)\n",
        "weight_for_1 = (1 / cases_count[1]) * (total / 2.0)\n",
        "class_weight = {0: weight_for_0, 1: weight_for_1}\n",
        "print(class_weight)"
      ]
    },
    {
      "cell_type": "code",
      "execution_count": null,
      "metadata": {
        "colab": {
          "base_uri": "https://localhost:8080/"
        },
        "id": "mnNKSo_OBXTt",
        "outputId": "5def008f-dc79-4cfb-cf11-f658a8169bfa"
      },
      "outputs": [
        {
          "output_type": "stream",
          "name": "stdout",
          "text": [
            "Found 16 images belonging to 2 classes.\n"
          ]
        }
      ],
      "source": [
        "val_datagen = ImageDataGenerator(rescale = 1./255)\n",
        "val_set = val_datagen.flow_from_directory('/content/drive/MyDrive/Colab Notebooks/Pneumonia_Detection/chest_xray/chest_xray/val',\n",
        "                                            target_size = (img_width, img_height),\n",
        "                                            batch_size = 32,\n",
        "                                            class_mode = 'binary')"
      ]
    },
    {
      "cell_type": "code",
      "execution_count": null,
      "metadata": {
        "colab": {
          "base_uri": "https://localhost:8080/"
        },
        "id": "cwuEajsDBgx3",
        "outputId": "760315f7-bf53-4e2a-fa08-72dd8156e43a"
      },
      "outputs": [
        {
          "output_type": "stream",
          "name": "stdout",
          "text": [
            "Found 624 images belonging to 2 classes.\n"
          ]
        }
      ],
      "source": [
        "test_datagen = ImageDataGenerator(rescale = 1./255)\n",
        "test_set = test_datagen.flow_from_directory('/content/drive/MyDrive/Colab Notebooks/Pneumonia_Detection/chest_xray/chest_xray/test',\n",
        "                                            target_size = (img_width, img_height),\n",
        "                                            batch_size = 32,\n",
        "                                            class_mode = 'binary',\n",
        "                                            shuffle=False)"
      ]
    },
    {
      "cell_type": "code",
      "execution_count": null,
      "metadata": {
        "id": "iZcovyqvBo73"
      },
      "outputs": [],
      "source": [
        "cnn = tf.keras.Sequential()\n",
        "cnn.add(tf.keras.layers.Conv2D(filters=32, kernel_size=3, activation='relu', input_shape=[img_width, img_height, 3]))\n",
        "cnn.add(tf.keras.layers.MaxPool2D(pool_size=2, strides=2))\n",
        "cnn.add(tf.keras.layers.Conv2D(filters=32, kernel_size=3, activation='relu'))\n",
        "cnn.add(tf.keras.layers.MaxPool2D(pool_size=2, strides=2))\n",
        "cnn.add(tf.keras.layers.Conv2D(filters=64, kernel_size=3, activation='relu'))\n",
        "cnn.add(tf.keras.layers.MaxPool2D(pool_size=2, strides=2))\n",
        "cnn.add(tf.keras.layers.Flatten())\n",
        "cnn.add(tf.keras.layers.Dense(units=128, activation='relu'))\n",
        "cnn.add(tf.keras.layers.Dense(units=1, activation='sigmoid'))"
      ]
    },
    {
      "cell_type": "code",
      "execution_count": null,
      "metadata": {
        "id": "wQ4J8grtCISF"
      },
      "outputs": [],
      "source": [
        "cnn.compile(optimizer = 'adam', loss = 'binary_crossentropy', metrics = ['accuracy'])"
      ]
    },
    {
      "cell_type": "code",
      "execution_count": null,
      "metadata": {
        "colab": {
          "base_uri": "https://localhost:8080/"
        },
        "id": "F801N1XmCKUE",
        "outputId": "d9bdb282-f080-4d2d-bb8b-84484d36601a"
      },
      "outputs": [
        {
          "output_type": "stream",
          "name": "stdout",
          "text": [
            "Epoch 1/50\n",
            "163/163 [==============================] - 1020s 6s/step - loss: 0.4256 - accuracy: 0.7786 - val_loss: 0.3562 - val_accuracy: 0.7500\n",
            "Epoch 2/50\n",
            "163/163 [==============================] - 71s 435ms/step - loss: 0.2624 - accuracy: 0.8875 - val_loss: 0.3392 - val_accuracy: 0.7500\n",
            "Epoch 3/50\n",
            "163/163 [==============================] - 72s 441ms/step - loss: 0.2034 - accuracy: 0.9174 - val_loss: 0.3461 - val_accuracy: 0.8125\n",
            "Epoch 4/50\n",
            "163/163 [==============================] - 71s 436ms/step - loss: 0.1838 - accuracy: 0.9256 - val_loss: 0.2774 - val_accuracy: 0.9375\n",
            "Epoch 5/50\n",
            "163/163 [==============================] - 71s 434ms/step - loss: 0.1998 - accuracy: 0.9220 - val_loss: 0.4124 - val_accuracy: 0.8125\n",
            "Epoch 6/50\n",
            "163/163 [==============================] - 70s 431ms/step - loss: 0.1984 - accuracy: 0.9191 - val_loss: 0.5463 - val_accuracy: 0.6250\n",
            "Epoch 7/50\n",
            "163/163 [==============================] - 70s 432ms/step - loss: 0.1715 - accuracy: 0.9333 - val_loss: 0.3174 - val_accuracy: 0.8125\n",
            "Epoch 8/50\n",
            "163/163 [==============================] - 70s 430ms/step - loss: 0.1598 - accuracy: 0.9375 - val_loss: 0.3367 - val_accuracy: 0.8125\n",
            "Epoch 9/50\n",
            "163/163 [==============================] - 71s 433ms/step - loss: 0.1678 - accuracy: 0.9358 - val_loss: 0.4733 - val_accuracy: 0.6875\n",
            "Epoch 10/50\n",
            "163/163 [==============================] - 70s 431ms/step - loss: 0.1666 - accuracy: 0.9323 - val_loss: 0.6286 - val_accuracy: 0.6250\n",
            "Epoch 11/50\n",
            "163/163 [==============================] - 71s 433ms/step - loss: 0.1639 - accuracy: 0.9369 - val_loss: 0.3249 - val_accuracy: 0.9375\n",
            "Epoch 12/50\n",
            "163/163 [==============================] - 70s 429ms/step - loss: 0.1520 - accuracy: 0.9387 - val_loss: 0.7041 - val_accuracy: 0.6250\n",
            "Epoch 13/50\n",
            "163/163 [==============================] - 71s 435ms/step - loss: 0.1403 - accuracy: 0.9479 - val_loss: 0.3969 - val_accuracy: 0.7500\n",
            "Epoch 14/50\n",
            "163/163 [==============================] - 70s 431ms/step - loss: 0.1434 - accuracy: 0.9444 - val_loss: 0.2824 - val_accuracy: 0.9375\n",
            "Epoch 15/50\n",
            "163/163 [==============================] - 70s 431ms/step - loss: 0.1343 - accuracy: 0.9469 - val_loss: 0.5639 - val_accuracy: 0.6875\n",
            "Epoch 16/50\n",
            "163/163 [==============================] - 71s 434ms/step - loss: 0.1403 - accuracy: 0.9459 - val_loss: 0.4513 - val_accuracy: 0.6875\n",
            "Epoch 17/50\n",
            "163/163 [==============================] - 72s 441ms/step - loss: 0.1288 - accuracy: 0.9498 - val_loss: 0.6283 - val_accuracy: 0.6875\n",
            "Epoch 18/50\n",
            "163/163 [==============================] - 70s 430ms/step - loss: 0.1346 - accuracy: 0.9459 - val_loss: 0.3626 - val_accuracy: 0.7500\n",
            "Epoch 19/50\n",
            "163/163 [==============================] - 70s 427ms/step - loss: 0.1338 - accuracy: 0.9494 - val_loss: 0.4640 - val_accuracy: 0.6250\n",
            "Epoch 20/50\n",
            "163/163 [==============================] - 70s 429ms/step - loss: 0.1436 - accuracy: 0.9450 - val_loss: 0.3664 - val_accuracy: 0.8125\n",
            "Epoch 21/50\n",
            "163/163 [==============================] - 70s 427ms/step - loss: 0.1275 - accuracy: 0.9496 - val_loss: 0.3927 - val_accuracy: 0.7500\n",
            "Epoch 22/50\n",
            "163/163 [==============================] - 70s 430ms/step - loss: 0.1365 - accuracy: 0.9452 - val_loss: 0.7126 - val_accuracy: 0.6875\n",
            "Epoch 23/50\n",
            "163/163 [==============================] - 70s 427ms/step - loss: 0.1293 - accuracy: 0.9467 - val_loss: 0.2678 - val_accuracy: 0.8750\n",
            "Epoch 24/50\n",
            "163/163 [==============================] - 69s 426ms/step - loss: 0.1386 - accuracy: 0.9438 - val_loss: 0.4512 - val_accuracy: 0.8125\n",
            "Epoch 25/50\n",
            "163/163 [==============================] - 69s 424ms/step - loss: 0.1167 - accuracy: 0.9553 - val_loss: 0.3357 - val_accuracy: 0.7500\n",
            "Epoch 26/50\n",
            "163/163 [==============================] - 69s 426ms/step - loss: 0.1142 - accuracy: 0.9555 - val_loss: 0.4589 - val_accuracy: 0.6875\n",
            "Epoch 27/50\n",
            "163/163 [==============================] - 69s 425ms/step - loss: 0.1192 - accuracy: 0.9528 - val_loss: 0.5331 - val_accuracy: 0.8125\n",
            "Epoch 28/50\n",
            "163/163 [==============================] - 70s 428ms/step - loss: 0.1241 - accuracy: 0.9519 - val_loss: 0.2432 - val_accuracy: 0.8125\n",
            "Epoch 29/50\n",
            "163/163 [==============================] - 69s 424ms/step - loss: 0.1211 - accuracy: 0.9538 - val_loss: 0.2554 - val_accuracy: 0.9375\n",
            "Epoch 30/50\n",
            "163/163 [==============================] - 71s 438ms/step - loss: 0.1154 - accuracy: 0.9515 - val_loss: 0.2877 - val_accuracy: 0.9375\n",
            "Epoch 31/50\n",
            "163/163 [==============================] - 69s 421ms/step - loss: 0.1128 - accuracy: 0.9542 - val_loss: 0.5967 - val_accuracy: 0.6875\n",
            "Epoch 32/50\n",
            "163/163 [==============================] - 69s 424ms/step - loss: 0.1135 - accuracy: 0.9528 - val_loss: 0.3727 - val_accuracy: 0.8125\n",
            "Epoch 33/50\n",
            "163/163 [==============================] - 69s 425ms/step - loss: 0.1040 - accuracy: 0.9576 - val_loss: 0.2202 - val_accuracy: 0.9375\n",
            "Epoch 34/50\n",
            "163/163 [==============================] - 70s 432ms/step - loss: 0.1117 - accuracy: 0.9546 - val_loss: 0.3833 - val_accuracy: 0.8125\n",
            "Epoch 35/50\n",
            "163/163 [==============================] - 69s 424ms/step - loss: 0.1006 - accuracy: 0.9599 - val_loss: 0.3379 - val_accuracy: 0.8125\n",
            "Epoch 36/50\n",
            "163/163 [==============================] - 69s 424ms/step - loss: 0.1031 - accuracy: 0.9578 - val_loss: 0.1866 - val_accuracy: 0.8750\n",
            "Epoch 37/50\n",
            "163/163 [==============================] - 69s 423ms/step - loss: 0.1061 - accuracy: 0.9588 - val_loss: 0.3475 - val_accuracy: 0.9375\n",
            "Epoch 38/50\n",
            "163/163 [==============================] - 69s 423ms/step - loss: 0.1070 - accuracy: 0.9578 - val_loss: 0.3034 - val_accuracy: 0.8750\n",
            "Epoch 39/50\n",
            "163/163 [==============================] - 69s 424ms/step - loss: 0.0984 - accuracy: 0.9607 - val_loss: 0.3493 - val_accuracy: 0.7500\n",
            "Epoch 40/50\n",
            "163/163 [==============================] - 69s 425ms/step - loss: 0.1066 - accuracy: 0.9592 - val_loss: 0.2272 - val_accuracy: 0.8125\n",
            "Epoch 41/50\n",
            "163/163 [==============================] - 69s 424ms/step - loss: 0.0981 - accuracy: 0.9617 - val_loss: 0.4606 - val_accuracy: 0.7500\n",
            "Epoch 42/50\n",
            "163/163 [==============================] - 69s 424ms/step - loss: 0.0990 - accuracy: 0.9617 - val_loss: 0.3060 - val_accuracy: 0.7500\n",
            "Epoch 43/50\n",
            "163/163 [==============================] - 69s 422ms/step - loss: 0.0931 - accuracy: 0.9617 - val_loss: 0.1930 - val_accuracy: 0.9375\n",
            "Epoch 44/50\n",
            "163/163 [==============================] - 68s 420ms/step - loss: 0.0944 - accuracy: 0.9617 - val_loss: 0.1839 - val_accuracy: 1.0000\n",
            "Epoch 45/50\n",
            "163/163 [==============================] - 69s 425ms/step - loss: 0.0911 - accuracy: 0.9664 - val_loss: 0.3975 - val_accuracy: 0.7500\n",
            "Epoch 46/50\n",
            "163/163 [==============================] - 70s 428ms/step - loss: 0.0929 - accuracy: 0.9634 - val_loss: 0.3113 - val_accuracy: 0.9375\n",
            "Epoch 47/50\n",
            "163/163 [==============================] - 69s 422ms/step - loss: 0.0940 - accuracy: 0.9640 - val_loss: 0.1908 - val_accuracy: 0.9375\n",
            "Epoch 48/50\n",
            "163/163 [==============================] - 69s 422ms/step - loss: 0.1028 - accuracy: 0.9594 - val_loss: 0.1884 - val_accuracy: 0.9375\n",
            "Epoch 49/50\n",
            "163/163 [==============================] - 69s 422ms/step - loss: 0.0892 - accuracy: 0.9632 - val_loss: 0.4019 - val_accuracy: 0.7500\n",
            "Epoch 50/50\n",
            "163/163 [==============================] - 70s 430ms/step - loss: 0.0877 - accuracy: 0.9657 - val_loss: 0.3064 - val_accuracy: 0.8750\n"
          ]
        }
      ],
      "source": [
        "model_fit = cnn.fit(x = training_set, validation_data = val_set, epochs = 50, class_weight=class_weight)"
      ]
    },
    {
      "cell_type": "code",
      "source": [
        "plt.figure(figsize = (10, 5))\n",
        "plt.title(\"Model accuracy\")\n",
        "plt.plot(model_fit.history[\"accuracy\"], \"go-\")\n",
        "plt.plot(model_fit.history[\"val_accuracy\"], \"ro-\")\n",
        "plt.legend([\"accuracy\", \"val_accuracy\"])\n",
        "plt.show()"
      ],
      "metadata": {
        "id": "kVZWvMb_X6_G",
        "colab": {
          "base_uri": "https://localhost:8080/",
          "height": 336
        },
        "outputId": "a91de415-e2b2-42f2-fe61-8e2d51b5c442"
      },
      "execution_count": null,
      "outputs": [
        {
          "output_type": "display_data",
          "data": {
            "text/plain": [
              "<Figure size 720x360 with 1 Axes>"
            ],
            "image/png": "[encoded data removed]"
          },
          "metadata": {
            "needs_background": "light"
          }
        }
      ]
    },
    {
      "cell_type": "code",
      "source": [
        "plt.figure(figsize = (10, 5))\n",
        "plt.title(\"Model loss\")\n",
        "plt.plot(model_fit.history[\"loss\"], \"go-\")\n",
        "plt.plot(model_fit.history[\"val_loss\"], \"ro-\")\n",
        "plt.legend([\"loss\", \"val_loss\"])\n",
        "plt.show()"
      ],
      "metadata": {
        "id": "dNjOg1JMX84k",
        "colab": {
          "base_uri": "https://localhost:8080/",
          "height": 336
        },
        "outputId": "1ad80abf-ffaf-4c27-bbfb-46767388a01f"
      },
      "execution_count": null,
      "outputs": [
        {
          "output_type": "display_data",
          "data": {
            "text/plain": [
              "<Figure size 720x360 with 1 Axes>"
            ],
            "image/png": "[encoded data removed]"
          },
          "metadata": {
            "needs_background": "light"
          }
        }
      ]
    },
    {
      "cell_type": "code",
      "source": [
        "y_test = val_set.classes\n",
        "y_pred = cnn.predict(val_set)\n",
        "y_pred_probs = y_pred.copy()\n",
        "y_pred[y_pred>0.5] = 1\n",
        "y_pred[y_pred<0.5] = 0"
      ],
      "metadata": {
        "colab": {
          "base_uri": "https://localhost:8080/"
        },
        "id": "Pbi8wHG8tAe_",
        "outputId": "119aab48-9293-4768-e810-9dc1c737d165"
      },
      "execution_count": null,
      "outputs": [
        {
          "output_type": "stream",
          "name": "stdout",
          "text": [
            "1/1 [==============================] - 0s 206ms/step\n"
          ]
        }
      ]
    },
    {
      "cell_type": "code",
      "source": [
        "from sklearn.metrics import classification_report, confusion_matrix"
      ],
      "metadata": {
        "id": "j7LhcZPBtVAh"
      },
      "execution_count": null,
      "outputs": []
    },
    {
      "cell_type": "code",
      "source": [
        "print(classification_report(y_test,y_pred,target_names = ['Normal','Pnuemonia']))"
      ],
      "metadata": {
        "colab": {
          "base_uri": "https://localhost:8080/"
        },
        "id": "5fyBy2XuteeP",
        "outputId": "ffc0b0d2-991a-4088-845a-9eafc52f14be"
      },
      "execution_count": null,
      "outputs": [
        {
          "output_type": "stream",
          "name": "stdout",
          "text": [
            "              precision    recall  f1-score   support\n",
            "\n",
            "      Normal       0.50      0.62      0.56         8\n",
            "   Pnuemonia       0.50      0.38      0.43         8\n",
            "\n",
            "    accuracy                           0.50        16\n",
            "   macro avg       0.50      0.50      0.49        16\n",
            "weighted avg       0.50      0.50      0.49        16\n",
            "\n"
          ]
        }
      ]
    },
    {
      "cell_type": "code",
      "execution_count": null,
      "metadata": {
        "id": "VDbXPE37CN3m"
      },
      "outputs": [],
      "source": [
        "cnn.save(\"Pneumonialayer50epochs.h5\")"
      ]
    },
    {
      "cell_type": "code",
      "execution_count": null,
      "metadata": {
        "id": "G91GDyxxDkMi"
      },
      "outputs": [],
      "source": [
        "cnn = tf.keras.Model(cnn)\n",
        "cnn.save_weights(\"/content\")"
      ]
    },
    {
      "cell_type": "code",
      "execution_count": null,
      "metadata": {
        "id": "CZ8xHO1XD6IQ",
        "colab": {
          "base_uri": "https://localhost:8080/"
        },
        "outputId": "38e55aab-3677-4d96-f665-f8ddcd8578bd"
      },
      "outputs": [
        {
          "output_type": "stream",
          "name": "stdout",
          "text": [
            "Model: \"sequential\"\n",
            "_________________________________________________________________\n",
            " Layer (type)                Output Shape              Param #   \n",
            "=================================================================\n",
            " conv2d (Conv2D)             (None, 62, 62, 32)        896       \n",
            "                                                                 \n",
            " max_pooling2d (MaxPooling2D  (None, 31, 31, 32)       0         \n",
            " )                                                               \n",
            "                                                                 \n",
            " conv2d_1 (Conv2D)           (None, 29, 29, 32)        9248      \n",
            "                                                                 \n",
            " max_pooling2d_1 (MaxPooling  (None, 14, 14, 32)       0         \n",
            " 2D)                                                             \n",
            "                                                                 \n",
            " conv2d_2 (Conv2D)           (None, 12, 12, 64)        18496     \n",
            "                                                                 \n",
            " max_pooling2d_2 (MaxPooling  (None, 6, 6, 64)         0         \n",
            " 2D)                                                             \n",
            "                                                                 \n",
            " flatten (Flatten)           (None, 2304)              0         \n",
            "                                                                 \n",
            " dense (Dense)               (None, 128)               295040    \n",
            "                                                                 \n",
            " dense_1 (Dense)             (None, 1)                 129       \n",
            "                                                                 \n",
            "=================================================================\n",
            "Total params: 323,809\n",
            "Trainable params: 323,809\n",
            "Non-trainable params: 0\n",
            "_________________________________________________________________\n"
          ]
        }
      ],
      "source": [
        "model_loaded = tensorflow.keras.models.load_model(\"/content/Pneumonialayer50epochs.h5\")\n",
        "model_loaded.summary()    "
      ]
    },
    {
      "cell_type": "code",
      "execution_count": null,
      "metadata": {
        "colab": {
          "base_uri": "https://localhost:8080/"
        },
        "id": "BeN57XkoEA5p",
        "outputId": "be2467a3-5b42-4974-bc01-050bab7c4e07"
      },
      "outputs": [
        {
          "output_type": "stream",
          "name": "stdout",
          "text": [
            "20/20 [==============================] - 6s 281ms/step - loss: 0.2017 - accuracy: 0.9295\n",
            "Model Accuracy:  92.95%\n"
          ]
        }
      ],
      "source": [
        "model_evaluation = cnn.evaluate(test_set)\n",
        "print(f\"Model Accuracy: {model_evaluation[1]*100: 0.2f}%\")"
      ]
    },
    {
      "cell_type": "code",
      "execution_count": null,
      "metadata": {
        "colab": {
          "base_uri": "https://localhost:8080/"
        },
        "id": "pMHCso9MEG7V",
        "outputId": "7ae000e4-de19-4d2c-c69d-7c6216a68955"
      },
      "outputs": [
        {
          "output_type": "stream",
          "name": "stdout",
          "text": [
            "20/20 [==============================] - 7s 334ms/step\n"
          ]
        }
      ],
      "source": [
        "preds = np.round(cnn.predict(test_set),0)\n",
        "gt_class = test_set.classes\n",
        "gt_labels = list(test_set.class_indices.keys())"
      ]
    },
    {
      "cell_type": "code",
      "execution_count": null,
      "metadata": {
        "colab": {
          "base_uri": "https://localhost:8080/"
        },
        "id": "hmEWMnLCERPZ",
        "outputId": "e0f29a6e-a1be-43ab-b65b-fc15eb3b13ce"
      },
      "outputs": [
        {
          "output_type": "stream",
          "name": "stdout",
          "text": [
            "[[215  19]\n",
            " [ 25 365]]\n",
            "The cnn model has an accuracy score of 92.95 and recall score of 93.59 for PNEUMONIA\n"
          ]
        }
      ],
      "source": [
        "from sklearn.metrics import classification_report, confusion_matrix, accuracy_score, recall_score\n",
        "cm = confusion_matrix(gt_class, preds)\n",
        "print(cm)\n",
        "print('The cnn model has an accuracy score of {:.2f} and recall score of {:.2f} for {:s}'.format((accuracy_score(gt_class, preds) *100),(recall_score(gt_class, preds) *100),gt_labels[1]))"
      ]
    },
    {
      "cell_type": "code",
      "execution_count": null,
      "metadata": {
        "colab": {
          "base_uri": "https://localhost:8080/"
        },
        "id": "tLOr2CroEW60",
        "outputId": "95203b09-fa59-4edb-9346-b4489d730bae"
      },
      "outputs": [
        {
          "output_type": "stream",
          "name": "stdout",
          "text": [
            "              precision    recall  f1-score   support\n",
            "\n",
            "      NORMAL       0.90      0.92      0.91       234\n",
            "   PNEUMONIA       0.95      0.94      0.94       390\n",
            "\n",
            "    accuracy                           0.93       624\n",
            "   macro avg       0.92      0.93      0.93       624\n",
            "weighted avg       0.93      0.93      0.93       624\n",
            "\n"
          ]
        }
      ],
      "source": [
        "report = classification_report(gt_class, preds, target_names=gt_labels)\n",
        "print(report)"
      ]
    },
    {
      "cell_type": "code",
      "execution_count": null,
      "metadata": {
        "colab": {
          "base_uri": "https://localhost:8080/"
        },
        "id": "Ihjs1zmqEZWh",
        "outputId": "5c63e1d7-eb67-4431-f9b3-f682f6daa101"
      },
      "outputs": [
        {
          "output_type": "stream",
          "name": "stdout",
          "text": [
            "20/50 [===========>..................] - ETA: 8s - loss: 0.2017 - accuracy: 0.9295"
          ]
        },
        {
          "output_type": "stream",
          "name": "stderr",
          "text": [
            "WARNING:tensorflow:Your input ran out of data; interrupting training. Make sure that your dataset or generator can generate at least `steps_per_epoch * epochs` batches (in this case, 50 batches). You may need to use the repeat() function when building your dataset.\n"
          ]
        },
        {
          "output_type": "stream",
          "name": "stdout",
          "text": [
            "\b\b\b\b\b\b\b\b\b\b\b\b\b\b\b\b\b\b\b\b\b\b\b\b\b\b\b\b\b\b\b\b\b\b\b\b\b\b\b\b\b\b\b\b\b\b\b\b\b\b\b\b\b\b\b\b\b\b\b\b\b\b\b\b\b\b\b\b\b\b\b\b\b\b\b\b\b\b\b\b\b\b\r50/50 [==============================] - 6s 109ms/step - loss: 0.2017 - accuracy: 0.9295\n",
            "The testing accuracy is:  92.94871687889099 %\n",
            "The testing loss is:  20.17042636871338 %\n"
          ]
        }
      ],
      "source": [
        "test_loss, test_accuracy = cnn.evaluate(test_set, steps = 50)\n",
        "print(\"The testing accuracy is: \", test_accuracy * 100, \"%\")\n",
        "print(\"The testing loss is: \", test_loss * 100, \"%\")"
      ]
    },
    {
      "cell_type": "code",
      "execution_count": null,
      "metadata": {
        "colab": {
          "base_uri": "https://localhost:8080/"
        },
        "id": "Lzq8iXVCEsIB",
        "outputId": "56636c72-d9e7-41cd-ab32-033f1053ebd5"
      },
      "outputs": [
        {
          "output_type": "stream",
          "name": "stdout",
          "text": [
            "1/1 [==============================] - 0s 21ms/step\n",
            "P N E U M O N I A\n"
          ]
        }
      ],
      "source": [
        "new_image_path = \"/content/drive/MyDrive/Colab Notebooks/Pneumonia_Detection/chest_xray/test/NORMAL/IM-0001-0001.jpeg\"\n",
        "test_image = image.load_img(new_image_path, target_size = (64, 64))\n",
        "test_image = image.img_to_array(test_image)\n",
        "test_image = np.expand_dims(test_image, axis = 0)\n",
        "test_image = np.reshape(test_image, (1, 64, 64, 3))\n",
        "test_image = test_image / 255\n",
        "\n",
        "\n",
        "result = cnn.predict(test_image)\n",
        "training_set.class_indices\n",
        "if result[0][0] == 0:\n",
        "    prediction = \"N O R M A L\"\n",
        "else:\n",
        "    prediction = \"P N E U M O N I A\"\n",
        "\n",
        "print(prediction)"
      ]
    },
    {
      "cell_type": "code",
      "execution_count": null,
      "metadata": {
        "colab": {
          "base_uri": "https://localhost:8080/",
          "height": 303
        },
        "id": "0Pe0ADSziO8V",
        "outputId": "d1094aee-82c7-463d-c3ee-a1580d912977"
      },
      "outputs": [
        {
          "output_type": "stream",
          "name": "stdout",
          "text": [
            "1/1 [==============================] - 0s 112ms/step\n",
            "This image is 83.797 percent P N E U M O N I A\n"
          ]
        },
        {
          "output_type": "display_data",
          "data": {
            "text/plain": [
              "<Figure size 432x288 with 1 Axes>"
            ],
            "image/png": "[encoded data removed]"
          },
          "metadata": {
            "needs_background": "light"
          }
        }
      ],
      "source": [
        "def image_prediction(new_image_path):\n",
        "    test_image = image.load_img(new_image_path, target_size = (64, 64))\n",
        "    test_image = image.img_to_array(test_image)\n",
        "    test_image = np.expand_dims(test_image, axis = 0)\n",
        "    test_image = test_image / 255.0\n",
        "    model_loaded = tensorflow.keras.models.load_model(\"/content/Pneumonialayer50epochs.h5\")\n",
        "    prediction = model_loaded.predict(test_image)\n",
        "    test_image_for_plotting = image.load_img(new_image_path, target_size = (64, 64))\n",
        "    plt.imshow(test_image_for_plotting)\n",
        "    if(prediction[0] > 0.5):\n",
        "        statistic = prediction[0] * 100 \n",
        "        print(\"This image is %.3f percent %s\"% (statistic, \"P N E U M O N I A\"))\n",
        "    else:\n",
        "        statistic = (1.0 - prediction[0]) * 100\n",
        "        print(\"This image is %.3f percent %s\" % (statistic, \"N O R M A L\"))\n",
        "     \n",
        " \n",
        "# call and use the function\n",
        "image_prediction(\"/content/drive/MyDrive/Colab Notebooks/Pneumonia_Detection/chest_xray/test/PNEUMONIA/person100_bacteria_475.jpeg\")"
      ]
    },
    {
      "cell_type": "code",
      "execution_count": null,
      "metadata": {
        "id": "S2v4LDv5mOsR"
      },
      "outputs": [],
      "source": [
        "test_dir = \"/content/drive/MyDrive/Colab Notebooks/Pneumonia_Detection/chest_xray/test\"\n",
        "test_data, test_labels = [], []"
      ]
    },
    {
      "cell_type": "code",
      "execution_count": null,
      "metadata": {
        "id": "Pea9R7JnmpQz"
      },
      "outputs": [],
      "source": [
        "for i in [\"/NORMAL/\", \"/PNEUMONIA/\"]:\n",
        "    for image in (os.listdir(test_dir + i)):\n",
        "        image = plt.imread(test_dir + i + image)\n",
        "        image = cv2.resize(image, (64, 64))\n",
        "        image = np.dstack([image, image, image])\n",
        "        image = image.astype(\"float32\") / 255\n",
        "        if i == \"/NORMAL/\":\n",
        "            label = 0\n",
        "        elif i == \"/PNEUMONIA/\":\n",
        "            label = 1\n",
        "        test_data.append(image)\n",
        "        test_labels.append(label)\n",
        "\n",
        "test_data = np.array(test_data)\n",
        "test_labels = np.array(test_labels)"
      ]
    },
    {
      "cell_type": "code",
      "source": [
        "print(\"C o n f u s i o n   m a t r i x\\n\\n\")\n",
        "import matplotlib\n",
        "import matplotlib.pyplot as plt\n",
        "\n",
        "predictions = model_loaded.predict(test_data)\n",
        "conf_m = confusion_matrix(test_labels, np.round(predictions))\n",
        "acc = accuracy_score(test_labels, np.round(predictions)) * 100\n",
        "tn, fp, fn, tp = conf_m.ravel()\n",
        "\n",
        "fig, ax = plot_confusion_matrix(conf_mat = conf_m, figsize = (6, 6), cmap = matplotlib.pyplot.cm.Reds)\n",
        "plt.show()"
      ],
      "metadata": {
        "colab": {
          "base_uri": "https://localhost:8080/",
          "height": 457
        },
        "id": "yUiliKKevuEN",
        "outputId": "21a201d1-05fe-43d1-c072-bba81779a23e"
      },
      "execution_count": null,
      "outputs": [
        {
          "output_type": "stream",
          "name": "stdout",
          "text": [
            "C o n f u s i o n   m a t r i x\n",
            "\n",
            "\n",
            "20/20 [==============================] - 0s 4ms/step\n"
          ]
        },
        {
          "output_type": "display_data",
          "data": {
            "text/plain": [
              "<Figure size 432x432 with 1 Axes>"
            ],
            "image/png": "[encoded data removed]"
          },
          "metadata": {
            "needs_background": "light"
          }
        }
      ]
    },
    {
      "cell_type": "code",
      "source": [
        "precision = tp / (tp + fp) * 100\n",
        "recall = tp / (tp + fn) * 100\n",
        "print(\"Accuracy: {}%\".format(acc))\n",
        "print(\"Precision: {}%\".format(precision))\n",
        "print(\"Recall: {}%\".format(recall))\n",
        "print(\"F1-score: {}\".format(2 * precision * recall / (precision + recall)))"
      ],
      "metadata": {
        "colab": {
          "base_uri": "https://localhost:8080/"
        },
        "id": "mhkOB1CyyqvH",
        "outputId": "c322333c-8107-43a1-ea1c-71f41f84efe6"
      },
      "execution_count": null,
      "outputs": [
        {
          "output_type": "stream",
          "name": "stdout",
          "text": [
            "Accuracy: 92.78846153846155%\n",
            "Precision: 95.03916449086162%\n",
            "Recall: 93.33333333333333%\n",
            "F1-score: 94.17852522639068\n"
          ]
        }
      ]
    }
  ],
  "metadata": {
    "accelerator": "GPU",
    "colab": {
      "provenance": []
    },
    "gpuClass": "standard",
    "kernelspec": {
      "display_name": "Python 3",
      "name": "python3"
    },
    "language_info": {
      "name": "python"
    }
  },
  "nbformat": 4,
  "nbformat_minor": 0
}