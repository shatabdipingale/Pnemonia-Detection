{
  "nbformat": 4,
  "nbformat_minor": 0,
  "metadata": {
    "colab": {
      "provenance": []
    },
    "kernelspec": {
      "name": "python3",
      "display_name": "Python 3"
    },
    "language_info": {
      "name": "python"
    },
    "gpuClass": "standard"
  },
  "cells": [
    {
      "cell_type": "code",
      "execution_count": null,
      "metadata": {
        "colab": {
          "base_uri": "https://localhost:8080/"
        },
        "id": "zgYbIxYRs6Hc",
        "outputId": "bb72c170-2602-4089-e05f-0b1f37f5939f"
      },
      "outputs": [
        {
          "output_type": "stream",
          "name": "stdout",
          "text": [
            "Mounted at /content/drive\n",
            "Downloading data from https://storage.googleapis.com/tensorflow/keras-applications/inception_v3/inception_v3_weights_tf_dim_ordering_tf_kernels_notop.h5\n",
            "87910968/87910968 [==============================] - 1s 0us/step\n",
            "Found 5216 images belonging to 2 classes.\n",
            "Found 624 images belonging to 2 classes.\n",
            "Epoch 1/50\n",
            "163/163 [==============================] - 102s 517ms/step - loss: 0.3763 - accuracy: 0.8608 - val_loss: 0.6091 - val_accuracy: 0.7788\n",
            "Epoch 2/50\n",
            "163/163 [==============================] - 83s 508ms/step - loss: 0.1898 - accuracy: 0.9231 - val_loss: 0.5896 - val_accuracy: 0.7949\n",
            "Epoch 3/50\n",
            "163/163 [==============================] - 82s 505ms/step - loss: 0.1552 - accuracy: 0.9388 - val_loss: 0.3293 - val_accuracy: 0.8798\n",
            "Epoch 4/50\n",
            "163/163 [==============================] - 83s 507ms/step - loss: 0.1323 - accuracy: 0.9457 - val_loss: 0.6508 - val_accuracy: 0.8029\n",
            "Epoch 5/50\n",
            "163/163 [==============================] - 81s 499ms/step - loss: 0.1265 - accuracy: 0.9542 - val_loss: 0.5396 - val_accuracy: 0.8317\n",
            "Epoch 6/50\n",
            "163/163 [==============================] - 81s 498ms/step - loss: 0.1241 - accuracy: 0.9534 - val_loss: 1.5674 - val_accuracy: 0.7099\n",
            "Epoch 7/50\n",
            "163/163 [==============================] - 82s 506ms/step - loss: 0.1196 - accuracy: 0.9548 - val_loss: 0.6421 - val_accuracy: 0.8253\n",
            "Epoch 8/50\n",
            "163/163 [==============================] - 81s 499ms/step - loss: 0.1165 - accuracy: 0.9557 - val_loss: 0.6042 - val_accuracy: 0.8237\n",
            "Epoch 9/50\n",
            "163/163 [==============================] - 84s 514ms/step - loss: 0.1032 - accuracy: 0.9609 - val_loss: 0.8607 - val_accuracy: 0.7788\n",
            "Epoch 10/50\n",
            "163/163 [==============================] - 82s 503ms/step - loss: 0.1109 - accuracy: 0.9599 - val_loss: 0.4566 - val_accuracy: 0.8462\n",
            "Epoch 11/50\n",
            "163/163 [==============================] - 83s 512ms/step - loss: 0.1024 - accuracy: 0.9620 - val_loss: 0.7774 - val_accuracy: 0.7981\n",
            "Epoch 12/50\n",
            "163/163 [==============================] - 82s 500ms/step - loss: 0.0993 - accuracy: 0.9618 - val_loss: 0.7509 - val_accuracy: 0.8029\n",
            "Epoch 13/50\n",
            "163/163 [==============================] - 84s 514ms/step - loss: 0.0949 - accuracy: 0.9674 - val_loss: 0.6067 - val_accuracy: 0.8381\n",
            "Epoch 14/50\n",
            "163/163 [==============================] - 82s 502ms/step - loss: 0.0900 - accuracy: 0.9670 - val_loss: 1.0794 - val_accuracy: 0.7596\n",
            "Epoch 15/50\n",
            "163/163 [==============================] - 82s 504ms/step - loss: 0.0923 - accuracy: 0.9686 - val_loss: 0.6198 - val_accuracy: 0.8205\n",
            "Epoch 16/50\n",
            "163/163 [==============================] - 84s 516ms/step - loss: 0.0875 - accuracy: 0.9666 - val_loss: 0.7629 - val_accuracy: 0.8349\n",
            "Epoch 17/50\n",
            "163/163 [==============================] - 81s 497ms/step - loss: 0.0876 - accuracy: 0.9686 - val_loss: 0.7644 - val_accuracy: 0.8045\n",
            "Epoch 18/50\n",
            "163/163 [==============================] - 83s 511ms/step - loss: 0.0843 - accuracy: 0.9711 - val_loss: 0.9935 - val_accuracy: 0.7949\n",
            "Epoch 19/50\n",
            "163/163 [==============================] - 81s 495ms/step - loss: 0.0803 - accuracy: 0.9726 - val_loss: 1.0459 - val_accuracy: 0.7933\n",
            "Epoch 20/50\n",
            "163/163 [==============================] - 83s 511ms/step - loss: 0.0848 - accuracy: 0.9707 - val_loss: 1.5325 - val_accuracy: 0.7372\n",
            "Epoch 21/50\n",
            "163/163 [==============================] - 83s 510ms/step - loss: 0.0798 - accuracy: 0.9716 - val_loss: 0.7719 - val_accuracy: 0.8061\n",
            "Epoch 22/50\n",
            "163/163 [==============================] - 83s 506ms/step - loss: 0.0802 - accuracy: 0.9728 - val_loss: 0.7606 - val_accuracy: 0.8173\n",
            "Epoch 23/50\n",
            "163/163 [==============================] - 81s 495ms/step - loss: 0.0753 - accuracy: 0.9737 - val_loss: 1.1471 - val_accuracy: 0.7772\n",
            "Epoch 24/50\n",
            "163/163 [==============================] - 83s 508ms/step - loss: 0.0726 - accuracy: 0.9751 - val_loss: 1.0189 - val_accuracy: 0.8013\n",
            "Epoch 25/50\n",
            "163/163 [==============================] - 82s 503ms/step - loss: 0.0704 - accuracy: 0.9739 - val_loss: 1.4878 - val_accuracy: 0.7564\n",
            "Epoch 26/50\n",
            "163/163 [==============================] - 82s 503ms/step - loss: 0.0764 - accuracy: 0.9726 - val_loss: 0.8972 - val_accuracy: 0.8013\n",
            "Epoch 27/50\n",
            "163/163 [==============================] - 81s 494ms/step - loss: 0.0709 - accuracy: 0.9768 - val_loss: 0.5396 - val_accuracy: 0.8622\n",
            "Epoch 28/50\n",
            "163/163 [==============================] - 82s 500ms/step - loss: 0.0716 - accuracy: 0.9737 - val_loss: 1.1166 - val_accuracy: 0.7949\n",
            "Epoch 29/50\n",
            "163/163 [==============================] - 81s 494ms/step - loss: 0.0653 - accuracy: 0.9768 - val_loss: 1.5751 - val_accuracy: 0.7628\n",
            "Epoch 30/50\n",
            "163/163 [==============================] - 81s 494ms/step - loss: 0.0652 - accuracy: 0.9783 - val_loss: 1.1656 - val_accuracy: 0.7933\n",
            "Epoch 31/50\n",
            "163/163 [==============================] - 80s 490ms/step - loss: 0.0635 - accuracy: 0.9768 - val_loss: 1.1468 - val_accuracy: 0.7949\n",
            "Epoch 32/50\n",
            "163/163 [==============================] - 81s 497ms/step - loss: 0.0680 - accuracy: 0.9774 - val_loss: 1.0636 - val_accuracy: 0.8029\n",
            "Epoch 33/50\n",
            "163/163 [==============================] - 80s 491ms/step - loss: 0.0624 - accuracy: 0.9812 - val_loss: 1.7173 - val_accuracy: 0.7644\n",
            "Epoch 34/50\n",
            "163/163 [==============================] - 84s 516ms/step - loss: 0.0655 - accuracy: 0.9780 - val_loss: 1.0346 - val_accuracy: 0.8173\n",
            "Epoch 35/50\n",
            "163/163 [==============================] - 82s 504ms/step - loss: 0.0673 - accuracy: 0.9787 - val_loss: 2.1318 - val_accuracy: 0.7356\n",
            "Epoch 36/50\n",
            "163/163 [==============================] - 81s 495ms/step - loss: 0.0581 - accuracy: 0.9818 - val_loss: 1.4174 - val_accuracy: 0.7869\n",
            "Epoch 37/50\n",
            "163/163 [==============================] - 83s 508ms/step - loss: 0.0662 - accuracy: 0.9793 - val_loss: 1.5267 - val_accuracy: 0.7644\n",
            "Epoch 38/50\n",
            "163/163 [==============================] - 83s 508ms/step - loss: 0.0583 - accuracy: 0.9827 - val_loss: 1.3125 - val_accuracy: 0.7949\n",
            "Epoch 39/50\n",
            "163/163 [==============================] - 81s 497ms/step - loss: 0.0610 - accuracy: 0.9793 - val_loss: 0.9189 - val_accuracy: 0.8333\n",
            "Epoch 40/50\n",
            "163/163 [==============================] - 83s 508ms/step - loss: 0.0603 - accuracy: 0.9826 - val_loss: 1.8840 - val_accuracy: 0.7676\n",
            "Epoch 41/50\n",
            "163/163 [==============================] - 83s 507ms/step - loss: 0.0543 - accuracy: 0.9835 - val_loss: 1.0314 - val_accuracy: 0.8157\n",
            "Epoch 42/50\n",
            "163/163 [==============================] - 81s 500ms/step - loss: 0.0477 - accuracy: 0.9839 - val_loss: 1.2928 - val_accuracy: 0.8125\n",
            "Epoch 43/50\n",
            "163/163 [==============================] - 83s 512ms/step - loss: 0.0529 - accuracy: 0.9827 - val_loss: 1.3870 - val_accuracy: 0.8077\n",
            "Epoch 44/50\n",
            "163/163 [==============================] - 82s 502ms/step - loss: 0.0566 - accuracy: 0.9820 - val_loss: 1.5038 - val_accuracy: 0.7837\n",
            "Epoch 45/50\n",
            "163/163 [==============================] - 81s 498ms/step - loss: 0.0518 - accuracy: 0.9831 - val_loss: 1.2988 - val_accuracy: 0.8077\n",
            "Epoch 46/50\n",
            "163/163 [==============================] - 83s 507ms/step - loss: 0.0495 - accuracy: 0.9850 - val_loss: 2.2931 - val_accuracy: 0.7596\n",
            "Epoch 47/50\n",
            "163/163 [==============================] - 79s 486ms/step - loss: 0.0568 - accuracy: 0.9837 - val_loss: 2.3037 - val_accuracy: 0.7484\n",
            "Epoch 48/50\n",
            "163/163 [==============================] - 81s 497ms/step - loss: 0.0590 - accuracy: 0.9806 - val_loss: 1.8696 - val_accuracy: 0.7756\n",
            "Epoch 49/50\n",
            "163/163 [==============================] - 83s 508ms/step - loss: 0.0466 - accuracy: 0.9826 - val_loss: 1.1949 - val_accuracy: 0.8189\n",
            "Epoch 50/50\n",
            "163/163 [==============================] - 82s 503ms/step - loss: 0.0572 - accuracy: 0.9816 - val_loss: 1.9823 - val_accuracy: 0.7596\n"
          ]
        }
      ],
      "source": [
        "# Import necessary libraries\n",
        "import os\n",
        "import numpy as np\n",
        "import tensorflow as tf\n",
        "from tensorflow import keras\n",
        "from tensorflow.keras.preprocessing import image\n",
        "from tensorflow.keras.applications.inception_v3 import preprocess_input\n",
        "from tensorflow.keras.models import Model, load_model\n",
        "\n",
        "from google.colab import drive\n",
        "drive.mount('/content/drive')\n",
        "\n",
        "#Import the libraries\n",
        "import zipfile\n",
        "import os\n",
        "\n",
        "zip_ref = zipfile.ZipFile('/content/drive/MyDrive/new/archive.zip', 'r') #Opens the zip file in read mode\n",
        "zip_ref.extractall('/tmp') #Extracts the files into the /tmp folder\n",
        "zip_ref.close()\n",
        "\n",
        "# Define paths to training and testing data\n",
        "train_path = '/tmp/chest_xray/train/'\n",
        "test_path = '/tmp/chest_xray/test'\n",
        "\n",
        "# Define image size and batch size\n",
        "img_size = (299, 299)\n",
        "batch_size = 32\n",
        "\n",
        "# Define pre-trained InceptionV3 model\n",
        "base_model = keras.applications.InceptionV3(weights='imagenet', include_top=False, input_shape=(img_size[0], img_size[1], 3))\n",
        "\n",
        "# Add new output layers to the pre-trained model\n",
        "x = base_model.output\n",
        "x = keras.layers.GlobalAveragePooling2D()(x)\n",
        "x = keras.layers.Dense(1024, activation='relu')(x)\n",
        "x = keras.layers.Dropout(0.5)(x)\n",
        "predictions = keras.layers.Dense(1, activation='sigmoid')(x)\n",
        "\n",
        "# Create the model\n",
        "model = Model(inputs=base_model.input, outputs=predictions)\n",
        "\n",
        "# Freeze the pre-trained layers\n",
        "for layer in base_model.layers:\n",
        "    layer.trainable = False\n",
        "\n",
        "# Compile the model\n",
        "model.compile(optimizer='rmsprop', loss='binary_crossentropy', metrics=['accuracy'])\n",
        "\n",
        "# Define data generators for training and testing\n",
        "train_datagen = image.ImageDataGenerator(preprocessing_function=preprocess_input)\n",
        "test_datagen = image.ImageDataGenerator(preprocessing_function=preprocess_input)\n",
        "\n",
        "train_generator = train_datagen.flow_from_directory(train_path, target_size=img_size, batch_size=batch_size, class_mode='binary')\n",
        "test_generator = test_datagen.flow_from_directory(test_path, target_size=img_size, batch_size=batch_size, class_mode='binary')\n",
        "\n",
        "# Train the model\n",
        "history = model.fit(train_generator, epochs=50, validation_data=test_generator)\n",
        "\n",
        "# Save the trained model\n",
        "model.save('pneumonia_detection_model.h5')\n"
      ]
    },
    {
      "cell_type": "code",
      "source": [
        "import tensorflow as tf\n",
        "from tensorflow import keras\n",
        "from tensorflow.keras.preprocessing import image\n",
        "from tensorflow.keras.applications.inception_v3 import preprocess_input\n",
        "from tensorflow.keras.models import Model, load_model\n",
        "img_size = (299, 299)\n",
        "batch_size = 32"
      ],
      "metadata": {
        "id": "GqNBo2dQgW3Q"
      },
      "execution_count": null,
      "outputs": []
    },
    {
      "cell_type": "code",
      "source": [
        "# Load the trained model\n",
        "model = load_model('pneumonia_detection_model.h5')\n",
        "\n",
        "# Define path to test images\n",
        "test_path = '/tmp/chest_xray/test'\n",
        "\n",
        "# Create a data generator for testing\n",
        "test_datagen = image.ImageDataGenerator(preprocessing_function=preprocess_input)\n",
        "test_generator = test_datagen.flow_from_directory(test_path, target_size=img_size, batch_size=batch_size, class_mode='binary', shuffle=False)\n",
        "\n",
        "# Make predictions on the test images\n",
        "predictions = model.predict(test_generator)\n",
        "\n",
        "# Convert predictions to binary labels (0 or 1)\n",
        "predicted_labels = np.round(predictions)\n",
        "\n",
        "# Get true labels for the test images\n",
        "true_labels = test_generator.classes\n",
        "\n",
        "# Calculate accuracy and other metrics\n",
        "accuracy = np.mean(predicted_labels == true_labels)\n",
        "precision = np.sum((predicted_labels == 1) & (true_labels == 1)) / np.sum(predicted_labels == 1)\n",
        "recall = np.sum((predicted_labels == 1) & (true_labels == 1)) / np.sum(true_labels == 1)\n",
        "f1_score = 2 * precision * recall / (precision + recall)\n",
        "\n",
        "# Print metrics\n",
        "print('Accuracy:', accuracy)\n",
        "print('Precision:', precision)\n",
        "print('Recall:', recall)\n",
        "print('F1 Score:', f1_score)\n"
      ],
      "metadata": {
        "colab": {
          "base_uri": "https://localhost:8080/"
        },
        "id": "RdHJqH-7uRuC",
        "outputId": "64796102-798d-407c-bca4-8cc0296fa35c"
      },
      "execution_count": null,
      "outputs": [
        {
          "output_type": "stream",
          "name": "stdout",
          "text": [
            "Found 624 images belonging to 2 classes.\n",
            "20/20 [==============================] - 10s 389ms/step\n",
            "Accuracy: 0.5897435897435898\n",
            "Precision: 390.0\n",
            "Recall: 536.0\n",
            "F1 Score: 451.4902807775378\n"
          ]
        }
      ]
    },
    {
      "cell_type": "code",
      "source": [
        "from sklearn.metrics import confusion_matrix\n",
        "import matplotlib.pyplot as plt\n",
        "import seaborn as sns\n",
        "\n",
        "# Get true labels for the test images\n",
        "true_labels = test_generator.classes\n",
        "\n",
        "# Convert predictions to binary labels (0 or 1)\n",
        "predicted_labels = np.round(predictions)\n",
        "\n",
        "# Create confusion matrix\n",
        "cm = confusion_matrix(true_labels, predicted_labels)\n",
        "\n",
        "# Plot confusion matrix\n",
        "plt.figure(figsize=(8,8))\n",
        "sns.heatmap(cm, cmap='Blues', annot=True, fmt='d', xticklabels=['Normal', 'Pneumonia'], yticklabels=['Normal', 'Pneumonia'])\n",
        "plt.xlabel('Predicted Labels')\n",
        "plt.ylabel('True Labels')\n",
        "plt.show()\n"
      ],
      "metadata": {
        "id": "hfOPiA13Jw0G",
        "colab": {
          "base_uri": "https://localhost:8080/",
          "height": 497
        },
        "outputId": "e66999ac-f5bd-487e-c5b2-3c64f511fc90"
      },
      "execution_count": null,
      "outputs": [
        {
          "output_type": "display_data",
          "data": {
            "text/plain": [
              "<Figure size 576x576 with 2 Axes>"
            ],
            "image/png": "[encoded data removed]"
          },
          "metadata": {
            "needs_background": "light"
          }
        }
      ]
    },
    {
      "cell_type": "code",
      "source": [
        "from sklearn.metrics import roc_curve, precision_recall_curve, auc\n",
        "import matplotlib.pyplot as plt\n",
        "\n",
        "# Compute ROC curve and ROC area for each class\n",
        "fpr, tpr, _ = roc_curve(true_labels, predictions)\n",
        "roc_auc = auc(fpr, tpr)\n",
        "\n",
        "# Compute precision-recall curve and average precision for each class\n",
        "precision, recall, _ = precision_recall_curve(true_labels, predictions)\n",
        "avg_precision = auc(recall, precision)\n",
        "\n",
        "# Plot ROC curve\n",
        "plt.figure()\n",
        "plt.plot(fpr, tpr, color='darkorange', lw=2, label='ROC curve (area = %0.2f)' % roc_auc)\n",
        "plt.plot([0, 1], [0, 1], color='navy', lw=2, linestyle='--')\n",
        "plt.xlim([0.0, 1.0])\n",
        "plt.ylim([0.0, 1.05])\n",
        "plt.xlabel('False Positive Rate')\n",
        "plt.ylabel('True Positive Rate')\n",
        "plt.title('Receiver operating characteristic')\n",
        "plt.legend(loc=\"lower right\")\n",
        "plt.show()\n",
        "\n",
        "# Plot precision-recall curve\n",
        "plt.figure()\n",
        "plt.step(recall, precision, color='b', alpha=0.2, where='post')\n",
        "plt.fill_between(recall, precision, step='post', alpha=0.2, color='b')\n",
        "plt.xlabel('Recall')\n",
        "plt.ylabel('Precision')\n",
        "plt.ylim([0.0, 1.05])\n",
        "plt.xlim([0.0, 1.0])\n",
        "plt.title('Precision-Recall curve: AP={0:0.2f}'.format(avg_precision))\n",
        "plt.show()\n"
      ],
      "metadata": {
        "colab": {
          "base_uri": "https://localhost:8080/",
          "height": 573
        },
        "id": "_1mLZY7Hj5EB",
        "outputId": "252545fb-2bad-4c9d-a771-e140ed4e422d"
      },
      "execution_count": null,
      "outputs": [
        {
          "output_type": "display_data",
          "data": {
            "text/plain": [
              "<Figure size 432x288 with 1 Axes>"
            ],
            "image/png": "[encoded data removed]"
          },
          "metadata": {
            "needs_background": "light"
          }
        },
        {
          "output_type": "display_data",
          "data": {
            "text/plain": [
              "<Figure size 432x288 with 1 Axes>"
            ],
            "image/png": "[encoded data removed]"
          },
          "metadata": {
            "needs_background": "light"
          }
        }
      ]
    },
    {
      "cell_type": "code",
      "source": [],
      "metadata": {
        "id": "iKp6fQ5K2UQt"
      },
      "execution_count": null,
      "outputs": []
    }
  ]
}